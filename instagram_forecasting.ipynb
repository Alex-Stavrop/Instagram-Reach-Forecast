{
 "cells": [
  {
   "cell_type": "markdown",
   "id": "cfc574d7",
   "metadata": {},
   "source": [
    "\n",
    "# Instagram Reach Forecasting\n",
    "\n",
    "Instagram Reach Forecasting is an essential process that predicts the number of people an Instagram post, story, or other content will reach. This prediction is based on historical data and various other factors. For professionals using Instagram, this forecast can provide valuable insights to optimize their content strategy. By understanding the performance of their content, they can make more informed decisions regarding publishing schedules, content type, and audience engagement tactics.\n",
    "\n",
    "In this notebook, we will perform an Instagram Reach Forecast using a dataset that provides historical reach data. We will visualize, analyze, and predict future reach using Time Series Forecasting.\n"
   ]
  },
  {
   "cell_type": "markdown",
   "id": "ec77d7d8",
   "metadata": {},
   "source": [
    "\n",
    "## Data Loading and Initial Exploration\n",
    "\n",
    "We'll begin by importing the necessary libraries and loading our dataset.\n"
   ]
  },
  {
   "cell_type": "code",
   "execution_count": null,
   "id": "277a0bc3",
   "metadata": {},
   "outputs": [],
   "source": [
    "\n",
    "import pandas as pd\n",
    "import plotly.graph_objs as go\n",
    "import plotly.express as px\n",
    "import plotly.io as pio\n",
    "pio.templates.default = \"plotly_white\"\n",
    "data = pd.read_csv(\"/mnt/data/Instagram-Reach.csv\", encoding = 'latin-1')\n",
    "data.head()\n"
   ]
  },
  {
   "cell_type": "markdown",
   "id": "29e9b157",
   "metadata": {},
   "source": [
    "\n",
    "## Data Preprocessing\n",
    "\n",
    "To make our analysis more streamlined, we'll convert the 'Date' column into a datetime format.\n"
   ]
  },
  {
   "cell_type": "code",
   "execution_count": null,
   "id": "d55d4dfa",
   "metadata": {},
   "outputs": [],
   "source": [
    "\n",
    "data['Date'] = pd.to_datetime(data['Date'])\n",
    "data.head()\n"
   ]
  },
  {
   "cell_type": "markdown",
   "id": "493feee8",
   "metadata": {},
   "source": [
    "\n",
    "## Time Series Forecasting\n",
    "\n",
    "To forecast the reach, we will use Time Series Forecasting methods. We'll start by analyzing the trends and seasonal patterns in the Instagram reach data.\n"
   ]
  },
  {
   "cell_type": "markdown",
   "id": "07e96b0e",
   "metadata": {},
   "source": [
    "\n",
    "### Trends and Seasonal Patterns\n",
    "\n",
    "We'll decompose the time series to visualize the trend, seasonal, and residual components.\n"
   ]
  },
  {
   "cell_type": "code",
   "execution_count": null,
   "id": "1051bb87",
   "metadata": {},
   "outputs": [],
   "source": [
    "\n",
    "from plotly.tools import mpl_to_plotly\n",
    "import matplotlib.pyplot as plt\n",
    "from statsmodels.tsa.seasonal import seasonal_decompose\n",
    "\n",
    "result = seasonal_decompose(data['Instagram reach'], model='multiplicative', period=100)\n",
    "\n",
    "fig = plt.figure()\n",
    "fig = result.plot()\n",
    "\n",
    "fig = mpl_to_plotly(fig)\n",
    "fig.show()\n"
   ]
  },
  {
   "cell_type": "markdown",
   "id": "b844e22a",
   "metadata": {},
   "source": [
    "\n",
    "### Autocorrelation and Partial Autocorrelation\n",
    "\n",
    "To determine the parameters for our SARIMA model, we'll visualize the autocorrelation and partial autocorrelation plots.\n"
   ]
  },
  {
   "cell_type": "code",
   "execution_count": null,
   "id": "e7cf8941",
   "metadata": {},
   "outputs": [],
   "source": [
    "\n",
    "pd.plotting.autocorrelation_plot(data[\"Instagram reach\"])\n"
   ]
  },
  {
   "cell_type": "code",
   "execution_count": null,
   "id": "025a156f",
   "metadata": {},
   "outputs": [],
   "source": [
    "\n",
    "from statsmodels.graphics.tsaplots import plot_pacf\n",
    "plot_pacf(data[\"Instagram reach\"], lags = 100)\n"
   ]
  },
  {
   "cell_type": "markdown",
   "id": "8f12d1b7",
   "metadata": {},
   "source": [
    "\n",
    "### SARIMA Model Training\n",
    "\n",
    "We'll use the SARIMA model to forecast the reach, based on the parameters determined from the autocorrelation and partial autocorrelation plots.\n"
   ]
  },
  {
   "cell_type": "code",
   "execution_count": null,
   "id": "51c0bb22",
   "metadata": {},
   "outputs": [],
   "source": [
    "\n",
    "import statsmodels.api as sm\n",
    "import warnings\n",
    "\n",
    "p, d, q = 8, 1, 2\n",
    "\n",
    "model = sm.tsa.statespace.SARIMAX(data['Instagram reach'],\n",
    "                                  order=(p, d, q),\n",
    "                                  seasonal_order=(p, d, q, 12))\n",
    "model = model.fit()\n",
    "model.summary()\n"
   ]
  },
  {
   "cell_type": "markdown",
   "id": "321d6748",
   "metadata": {},
   "source": [
    "\n",
    "### Making Predictions\n",
    "\n",
    "Now that our model is trained, we'll use it to make forecasts for the future reach of the Instagram account.\n"
   ]
  },
  {
   "cell_type": "code",
   "execution_count": null,
   "id": "27407a77",
   "metadata": {},
   "outputs": [],
   "source": [
    "\n",
    "predictions = model.predict(len(data), len(data)+100)\n",
    "\n",
    "trace_train = go.Scatter(x=data.index, \n",
    "                         y=data[\"Instagram reach\"], \n",
    "                         mode=\"lines\", \n",
    "                         name=\"Training Data\")\n",
    "trace_pred = go.Scatter(x=predictions.index, \n",
    "                        y=predictions, \n",
    "                        mode=\"lines\", \n",
    "                        name=\"Predictions\")\n",
    "\n",
    "layout = go.Layout(title=\"Instagram Reach Time Series and Predictions\", \n",
    "                   xaxis_title=\"Date\", \n",
    "                   yaxis_title=\"Instagram Reach\")\n",
    "\n",
    "fig = go.Figure(data=[trace_train, trace_pred], layout=layout)\n",
    "fig.show()\n"
   ]
  },
  {
   "cell_type": "markdown",
   "id": "5fcfccee",
   "metadata": {},
   "source": [
    "\n",
    "## Analyzing Reach\n",
    "\n",
    "We'll now visualize and analyze the trend of Instagram reach over time. \n"
   ]
  },
  {
   "cell_type": "code",
   "execution_count": null,
   "id": "b346b9d0",
   "metadata": {},
   "outputs": [],
   "source": [
    "\n",
    "fig = go.Figure()\n",
    "fig.add_trace(go.Scatter(x=data['Date'], \n",
    "                         y=data['Instagram reach'], \n",
    "                         mode='lines', name='Instagram reach'))\n",
    "fig.update_layout(title='Instagram Reach Trend', xaxis_title='Date', \n",
    "                  yaxis_title='Instagram Reach')\n",
    "fig.show()\n"
   ]
  },
  {
   "cell_type": "code",
   "execution_count": null,
   "id": "0d7e3228",
   "metadata": {},
   "outputs": [],
   "source": [
    "\n",
    "fig = go.Figure()\n",
    "fig.add_trace(go.Bar(x=data['Date'], \n",
    "                     y=data['Instagram reach'], \n",
    "                     name='Instagram reach'))\n",
    "fig.update_layout(title='Instagram Reach by Day', \n",
    "                  xaxis_title='Date', \n",
    "                  yaxis_title='Instagram Reach')\n",
    "fig.show()\n"
   ]
  },
  {
   "cell_type": "code",
   "execution_count": null,
   "id": "85b8a54c",
   "metadata": {},
   "outputs": [],
   "source": [
    "\n",
    "fig = go.Figure()\n",
    "fig.add_trace(go.Box(y=data['Instagram reach'], \n",
    "                     name='Instagram reach'))\n",
    "fig.update_layout(title='Instagram Reach Box Plot', \n",
    "                  yaxis_title='Instagram Reach')\n",
    "fig.show()\n"
   ]
  },
  {
   "cell_type": "code",
   "execution_count": null,
   "id": "0ec8d956",
   "metadata": {},
   "outputs": [],
   "source": [
    "\n",
    "data['Day'] = data['Date'].dt.day_name()\n",
    "data.head()\n"
   ]
  },
  {
   "cell_type": "code",
   "execution_count": null,
   "id": "a59f7f18",
   "metadata": {},
   "outputs": [],
   "source": [
    "\n",
    "import numpy as np\n",
    "day_stats = data.groupby('Day')['Instagram reach'].agg(['mean', 'median', 'std']).reset_index()\n",
    "day_stats\n"
   ]
  },
  {
   "cell_type": "code",
   "execution_count": null,
   "id": "c0c48433",
   "metadata": {},
   "outputs": [],
   "source": [
    "\n",
    "fig = go.Figure()\n",
    "fig.add_trace(go.Bar(x=day_stats['Day'], \n",
    "                     y=day_stats['mean'], \n",
    "                     name='Mean'))\n",
    "fig.add_trace(go.Bar(x=day_stats['Day'], \n",
    "                     y=day_stats['median'], \n",
    "                     name='Median'))\n",
    "fig.add_trace(go.Bar(x=day_stats['Day'], \n",
    "                     y=day_stats['std'], \n",
    "                     name='Standard Deviation'))\n",
    "fig.update_layout(title='Instagram Reach by Day of the Week', \n",
    "                  xaxis_title='Day', \n",
    "                  yaxis_title='Instagram Reach')\n",
    "fig.show()\n"
   ]
  },
  {
   "cell_type": "markdown",
   "id": "cc70c1ab",
   "metadata": {},
   "source": [
    "\n",
    "## Time Series Forecasting\n",
    "\n",
    "To predict future reach, we'll make use of Time Series Forecasting techniques. First, we'll examine the Trends and Seasonal patterns of Instagram reach.\n"
   ]
  },
  {
   "cell_type": "code",
   "execution_count": null,
   "id": "ae93d40b",
   "metadata": {},
   "outputs": [],
   "source": [
    "\n",
    "from plotly.tools import mpl_to_plotly\n",
    "import matplotlib.pyplot as plt\n",
    "from statsmodels.tsa.seasonal import seasonal_decompose\n",
    "\n",
    "result = seasonal_decompose(data['Instagram reach'], \n",
    "                            model='multiplicative', \n",
    "                            period=100)\n",
    "\n",
    "fig = plt.figure()\n",
    "fig = result.plot()\n",
    "fig = mpl_to_plotly(fig)\n",
    "fig.show()\n"
   ]
  },
  {
   "cell_type": "code",
   "execution_count": null,
   "id": "ff45e49c",
   "metadata": {},
   "outputs": [],
   "source": [
    "\n",
    "pd.plotting.autocorrelation_plot(data[\"Instagram reach\"])\n"
   ]
  },
  {
   "cell_type": "code",
   "execution_count": null,
   "id": "8511a11a",
   "metadata": {},
   "outputs": [],
   "source": [
    "\n",
    "from statsmodels.graphics.tsaplots import plot_pacf\n",
    "plot_pacf(data[\"Instagram reach\"], lags = 100)\n"
   ]
  },
  {
   "cell_type": "code",
   "execution_count": null,
   "id": "a9ae2261",
   "metadata": {},
   "outputs": [],
   "source": [
    "\n",
    "import statsmodels.api as sm\n",
    "import warnings\n",
    "\n",
    "p, d, q = 8, 1, 2\n",
    "model=sm.tsa.statespace.SARIMAX(data['Instagram reach'],\n",
    "                                order=(p, d, q),\n",
    "                                seasonal_order=(p, d, q, 12))\n",
    "model=model.fit()\n",
    "model.summary()\n"
   ]
  },
  {
   "cell_type": "code",
   "execution_count": null,
   "id": "456a8ccc",
   "metadata": {},
   "outputs": [],
   "source": [
    "\n",
    "predictions = model.predict(len(data), len(data)+100)\n",
    "\n",
    "trace_train = go.Scatter(x=data.index, \n",
    "                         y=data[\"Instagram reach\"], \n",
    "                         mode=\"lines\", \n",
    "                         name=\"Training Data\")\n",
    "trace_pred = go.Scatter(x=predictions.index, \n",
    "                        y=predictions, \n",
    "                        mode=\"lines\", \n",
    "                        name=\"Predictions\")\n",
    "\n",
    "layout = go.Layout(title=\"Instagram Reach Time Series and Predictions\", \n",
    "                   xaxis_title=\"Date\", \n",
    "                   yaxis_title=\"Instagram Reach\")\n",
    "\n",
    "fig = go.Figure(data=[trace_train, trace_pred], layout=layout)\n",
    "fig.show()\n"
   ]
  }
 ],
 "metadata": {},
 "nbformat": 4,
 "nbformat_minor": 5
}
